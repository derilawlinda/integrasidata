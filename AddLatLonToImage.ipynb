{
 "cells": [
  {
   "cell_type": "code",
   "execution_count": 21,
   "source": [
    "!pip install exifread\n",
    "!pip install piexif\n",
    "!pip install GPSPhoto\n",
    "\n"
   ],
   "outputs": [
    {
     "output_type": "stream",
     "name": "stdout",
     "text": [
      "Requirement already satisfied: exifread in /opt/anaconda3/lib/python3.8/site-packages (2.3.2)\n",
      "Collecting piexif\n",
      "  Downloading piexif-1.1.3-py2.py3-none-any.whl (20 kB)\n",
      "Installing collected packages: piexif\n",
      "Successfully installed piexif-1.1.3\n",
      "Requirement already satisfied: GPSPhoto in /opt/anaconda3/lib/python3.8/site-packages (2.2.3)\n"
     ]
    }
   ],
   "metadata": {}
  },
  {
   "cell_type": "code",
   "execution_count": 24,
   "source": [
    "from GPSPhoto import gpsphoto\n",
    "import piexif\n",
    "# Get the data from image file and return a dictionary\n",
    "\n",
    "from PIL import Image\n",
    "from PIL import ImageFont\n",
    "from PIL import ImageDraw "
   ],
   "outputs": [],
   "metadata": {}
  },
  {
   "cell_type": "code",
   "execution_count": 28,
   "source": [
    "datagps = gpsphoto.getGPSData('DJI_0153.JPG')\n",
    "data"
   ],
   "outputs": [
    {
     "output_type": "execute_result",
     "data": {
      "text/plain": [
       "{'Latitude': -5.078197333333333,\n",
       " 'Longitude': 106.27947019444444,\n",
       " 'Altitude': 4.947}"
      ]
     },
     "metadata": {},
     "execution_count": 28
    }
   ],
   "metadata": {}
  },
  {
   "cell_type": "code",
   "execution_count": null,
   "source": [
    "img = Image.open('DJI_0153.JPG')\n",
    "draw = ImageDraw.Draw(img)\n",
    "# font = ImageFont.truetype(<font-file>, <font-size>)\n",
    "font = ImageFont.truetype(\"arial.ttf\", 300)\n",
    "# draw.text((x, y),\"Sample Text\",(r,g,b))\n",
    "draw.text((0, 0),\"Lat : \" + str(data[\"Latitude\"]),(255,0,0),font=font)\n",
    "draw.text((0, 300),\"Lon : \" + str(data[\"Longitude\"]),(255,0,0),font=font)\n",
    "draw.text((0, 600),\"Date : \" + img.getexif()[36867],(255,0,0),font=font)\n",
    "\n",
    "display(img)\n",
    "img.save('DJI_0153.JPG_edit.jpg')"
   ],
   "outputs": [],
   "metadata": {}
  },
  {
   "cell_type": "code",
   "execution_count": 26,
   "source": [
    "img.getexif()[36867]"
   ],
   "outputs": [
    {
     "output_type": "execute_result",
     "data": {
      "text/plain": [
       "'2021:03:03 10:16:43'"
      ]
     },
     "metadata": {},
     "execution_count": 26
    }
   ],
   "metadata": {}
  },
  {
   "cell_type": "code",
   "execution_count": null,
   "source": [],
   "outputs": [],
   "metadata": {}
  }
 ],
 "metadata": {
  "kernelspec": {
   "display_name": "Python 3",
   "language": "python",
   "name": "python3"
  },
  "language_info": {
   "codemirror_mode": {
    "name": "ipython",
    "version": 3
   },
   "file_extension": ".py",
   "mimetype": "text/x-python",
   "name": "python",
   "nbconvert_exporter": "python",
   "pygments_lexer": "ipython3",
   "version": "3.8.5"
  }
 },
 "nbformat": 4,
 "nbformat_minor": 4
}