{
 "cells": [
  {
   "cell_type": "code",
   "execution_count": null,
   "metadata": {},
   "outputs": [],
   "source": [
    "import json\n",
    "from esridump.dumper import EsriDumper\n",
    "import requests"
   ]
  },
  {
   "cell_type": "code",
   "execution_count": null,
   "metadata": {},
   "outputs": [],
   "source": [
    "asd"
   ]
  },
  {
   "cell_type": "code",
   "execution_count": null,
   "metadata": {},
   "outputs": [],
   "source": [
    "\n",
    "resp_dict = \n",
    "len(resp_dict[\"features\"])\n"
   ]
  },
  {
   "cell_type": "code",
   "execution_count": null,
   "metadata": {},
   "outputs": [],
   "source": [
    "#Penggunaan Lahan\n",
    "page = 0\n",
    "while True :\n",
    "    url = 'https://jakartasatu.jakarta.go.id/server/rest/services/Penggunaan_Lahan/FeatureServer/0/query?\\\n",
    "where=OBJECTID>='+str(page)+' AND OBJECTID<'+str((page+2000))+'&\\\n",
    "f=geojson&\\\n",
    "returnGeometry=true\\\n",
    "spatialRel=esriSpatialRelIntersects\\\n",
    "&inSR=102100\\\n",
    "&outFields=*\\\n",
    "&outSR=102100'\n",
    "\n",
    "    response = requests.get(url)\n",
    "    resp_dict = json.loads(response.text)\n",
    "    if(len(resp_dict[\"features\"]) == 0) :\n",
    "        break\n",
    "    else :\n",
    "        with open(\"guna_lahan\"+str(page)+\"_\"+str(page+2000)+\".geojson\", \"w\") as f:\n",
    "            f.write(response.text)\n",
    "    page += 2000"
   ]
  },
  {
   "cell_type": "code",
   "execution_count": null,
   "metadata": {},
   "outputs": [],
   "source": [
    "#Garis Rencana Dimensi Jalan\n",
    "page = 0\n",
    "while True :\n",
    "    url = 'https://jakartasatu.jakarta.go.id/server/rest/services/JakartaSatu/Peta_Ops_V2_View/FeatureServer/0/query?\\\n",
    "where=OBJECTID>='+str(page)+' AND OBJECTID<'+str((page+2000))+'&\\\n",
    "f=geojson&\\\n",
    "returnGeometry=true\\\n",
    "spatialRel=esriSpatialRelIntersects\\\n",
    "&inSR=102100\\\n",
    "&outFields=*\\\n",
    "&outSR=102100'\n",
    "\n",
    "    response = requests.get(url)\n",
    "    resp_dict = json.loads(response.text)\n",
    "    if(len(resp_dict[\"features\"]) == 0) :\n",
    "        break\n",
    "    else :\n",
    "        with open(\"grdj\"+str(page)+\"_\"+str(page+2000)+\".geojson\", \"w\") as f:\n",
    "            f.write(response.text)\n",
    "    page += 2000\n"
   ]
  },
  {
   "cell_type": "code",
   "execution_count": null,
   "metadata": {},
   "outputs": [],
   "source": [
    "#Garis Rencana Dimensi Sungai\n",
    "page = 0\n",
    "while True :\n",
    "    url = 'https://jakartasatu.jakarta.go.id/server/rest/services/JakartaSatu/Peta_Ops_V2_View/FeatureServer/1/query?\\\n",
    "where=OBJECTID>='+str(page)+' AND OBJECTID<'+str((page+2000))+'&\\\n",
    "f=geojson&\\\n",
    "returnGeometry=true\\\n",
    "spatialRel=esriSpatialRelIntersects\\\n",
    "&inSR=102100\\\n",
    "&outFields=*\\\n",
    "&outSR=102100'\n",
    "\n",
    "    response = requests.get(url)\n",
    "    resp_dict = json.loads(response.text)\n",
    "    if(len(resp_dict[\"features\"]) == 0) :\n",
    "        break\n",
    "    else :\n",
    "        with open(\"grds\"+str(page)+\"_\"+str(page+2000)+\".geojson\", \"w\") as f:\n",
    "            f.write(response.text)\n",
    "    page += 2000\n"
   ]
  },
  {
   "cell_type": "code",
   "execution_count": 62,
   "metadata": {},
   "outputs": [
    {
     "data": {
      "text/plain": [
       "'https://jakartasatu.jakarta.go.id/server/rest/services/JakartaSatu/Peta_Ops_V2_View/FeatureServer/3/query?where=OBJECTID>=28000 AND OBJECTID<30000&f=geojson&returnGeometry=truespatialRel=esriSpatialRelIntersects&inSR=102100&outFields=*&outSR=102100'"
      ]
     },
     "execution_count": 62,
     "metadata": {},
     "output_type": "execute_result"
    }
   ],
   "source": [
    "page = 28000\n",
    "url = 'https://jakartasatu.jakarta.go.id/server/rest/services/JakartaSatu/Peta_Ops_V2_View/FeatureServer/3/query?\\\n",
    "where=OBJECTID>='+str(page)+' AND OBJECTID<'+str((page+2000))+'&\\\n",
    "f=geojson&\\\n",
    "returnGeometry=true\\\n",
    "spatialRel=esriSpatialRelIntersects\\\n",
    "&inSR=102100\\\n",
    "&outFields=*\\\n",
    "&outSR=102100'\n",
    "url"
   ]
  },
  {
   "cell_type": "code",
   "execution_count": 68,
   "metadata": {},
   "outputs": [],
   "source": [
    "#Peta Rencana Kota\n",
    "page = 100000\n",
    "while True :\n",
    "    url = 'https://jakartasatu.jakarta.go.id/server/rest/services/JakartaSatu/Peta_Ops_V2_View/FeatureServer/3/query?\\\n",
    "where=OBJECTID>='+str(page)+' AND OBJECTID<'+str((page+1000))+'&\\\n",
    "f=geojson&\\\n",
    "returnGeometry=true\\\n",
    "spatialRel=esriSpatialRelIntersects\\\n",
    "&inSR=102100\\\n",
    "&outFields=*\\\n",
    "&outSR=102100'\n",
    "    response = requests.get(url)\n",
    "    resp_dict = json.loads(response.text)\n",
    "    if(len(resp_dict[\"features\"]) == 0) :\n",
    "        break\n",
    "    else :\n",
    "        with open(\"prk\"+str(page)+\"_\"+str(page+1000)+\".geojson\", \"w\") as f:\n",
    "            f.write(response.text)\n",
    "    page += 2000\n",
    "    "
   ]
  },
  {
   "cell_type": "code",
   "execution_count": 67,
   "metadata": {},
   "outputs": [],
   "source": [
    "page = 98044\n",
    "url = 'https://jakartasatu.jakarta.go.id/server/rest/services/JakartaSatu/Peta_Ops_V2_View/FeatureServer/3/query?\\\n",
    "where=OBJECTID>='+str(page)+' AND OBJECTID<'+str((page+1956))+'&\\\n",
    "f=geojson&\\\n",
    "returnGeometry=true\\\n",
    "spatialRel=esriSpatialRelIntersects\\\n",
    "&inSR=102100\\\n",
    "&outFields=*\\\n",
    "&outSR=102100'\n",
    "response = requests.get(url)\n",
    "resp_dict = json.loads(response.text)\n",
    "with open(\"prk\"+str(page)+\"_\"+str(page+1956)+\".geojson\", \"w\") as f:\n",
    "    f.write(response.text)"
   ]
  },
  {
   "cell_type": "code",
   "execution_count": 57,
   "metadata": {},
   "outputs": [
    {
     "data": {
      "text/plain": [
       "1992"
      ]
     },
     "execution_count": 57,
     "metadata": {},
     "output_type": "execute_result"
    }
   ],
   "source": [
    "len(resp_dict[\"features\"])"
   ]
  },
  {
   "cell_type": "code",
   "execution_count": 69,
   "metadata": {},
   "outputs": [],
   "source": [
    "#RTH\n",
    "page = 0\n",
    "while True :\n",
    "    url = 'https://jakartasatu.jakarta.go.id/server/rest/services/RTH_SKPD_DKI/RTH_SKPD_DKI_View/FeatureServer/0/query?\\\n",
    "where=OBJECTID>='+str(page)+' AND OBJECTID<'+str((page+2000))+'&\\\n",
    "f=geojson&\\\n",
    "returnGeometry=true\\\n",
    "spatialRel=esriSpatialRelIntersects\\\n",
    "&inSR=102100\\\n",
    "&outFields=*\\\n",
    "&outSR=102100'\n",
    "\n",
    "    response = requests.get(url)\n",
    "    resp_dict = json.loads(response.text)\n",
    "    if(len(resp_dict[\"features\"]) == 0) :\n",
    "        break\n",
    "    else :\n",
    "        with open(\"rth\"+str(page)+\"_\"+str(page+2000)+\".geojson\", \"w\") as f:\n",
    "            f.write(response.text)\n",
    "    page += 2000"
   ]
  },
  {
   "cell_type": "code",
   "execution_count": null,
   "metadata": {},
   "outputs": [],
   "source": []
  }
 ],
 "metadata": {
  "kernelspec": {
   "display_name": "Python 3",
   "language": "python",
   "name": "python3"
  },
  "language_info": {
   "codemirror_mode": {
    "name": "ipython",
    "version": 3
   },
   "file_extension": ".py",
   "mimetype": "text/x-python",
   "name": "python",
   "nbconvert_exporter": "python",
   "pygments_lexer": "ipython3",
   "version": "3.8.5"
  }
 },
 "nbformat": 4,
 "nbformat_minor": 4
}
